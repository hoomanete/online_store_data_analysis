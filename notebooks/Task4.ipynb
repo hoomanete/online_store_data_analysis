{
 "cells": [
  {
   "cell_type": "code",
   "execution_count": 3,
   "metadata": {},
   "outputs": [],
   "source": [
    "import json\n",
    "import numpy as np\n",
    "import pandas as pd\n",
    "import mysql.connector"
   ]
  },
  {
   "cell_type": "code",
   "execution_count": 4,
   "metadata": {},
   "outputs": [],
   "source": [
    "config = {\n",
    "                \"host\": \"localhost\",\n",
    "                \"port\": 3306,\n",
    "                \"user\": \"test\",\n",
    "                \"password\": \"123456\",\n",
    "                \"database\": \"classicmodels\"\n",
    "}\n",
    "\n",
    "with open (\"/Users/hooman/Work Space/Online Store Data Analysis/online_store_data_analysis/notebooks/config.json\", \"w\") as outfile: json.dump(config, outfile)\n",
    "\n",
    "with open (\"/Users/hooman/Work Space/Online Store Data Analysis/online_store_data_analysis/notebooks/config.json\",\"r\") as config_file: \n",
    "    db_config = json.load(config_file)"
   ]
  },
  {
   "cell_type": "code",
   "execution_count": 5,
   "metadata": {},
   "outputs": [],
   "source": [
    "conn = mysql.connector.connect( \n",
    "  host = db_config['host'], \n",
    "  port = db_config['port'], \n",
    "  user = db_config['user'], \n",
    "  password = db_config['password'], \n",
    "  database= db_config['database'] \n",
    ")"
   ]
  },
  {
   "cell_type": "code",
   "execution_count": 6,
   "metadata": {},
   "outputs": [
    {
     "name": "stdout",
     "output_type": "stream",
     "text": [
      "Successfully connected to the database\n"
     ]
    }
   ],
   "source": [
    "# Check the connection\n",
    "if conn.is_connected():\n",
    "    print(\"Successfully connected to the database\")\n",
    "else:\n",
    "    print(\"Failed to connect to the database\")"
   ]
  },
  {
   "cell_type": "code",
   "execution_count": null,
   "metadata": {},
   "outputs": [],
   "source": []
  }
 ],
 "metadata": {
  "kernelspec": {
   "display_name": "Jadi",
   "language": "python",
   "name": "python3"
  },
  "language_info": {
   "codemirror_mode": {
    "name": "ipython",
    "version": 3
   },
   "file_extension": ".py",
   "mimetype": "text/x-python",
   "name": "python",
   "nbconvert_exporter": "python",
   "pygments_lexer": "ipython3",
   "version": "3.12.3"
  }
 },
 "nbformat": 4,
 "nbformat_minor": 2
}
