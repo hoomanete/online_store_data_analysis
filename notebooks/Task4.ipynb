{
 "cells": [
  {
   "cell_type": "code",
   "execution_count": 48,
   "metadata": {},
   "outputs": [],
   "source": [
    "# Import necessary modules\n",
    "import json\n",
    "import numpy as np\n",
    "import pandas as pd\n",
    "import mysql.connector\n",
    "import os"
   ]
  },
  {
   "cell_type": "code",
   "execution_count": 49,
   "metadata": {},
   "outputs": [],
   "source": [
    "config = {\n",
    "                \"host\": \"localhost\",\n",
    "                \"port\": 3306,\n",
    "                \"user\": \"test\",\n",
    "                \"password\": \"123456\",\n",
    "                \"database\": \"classicmodels\"\n",
    "}\n",
    "\n",
    "# Save the database configuration to a JSON file\n",
    "with open (\"/Users/hooman/Work Space/Online Store Data Analysis/online_store_data_analysis/notebooks/config.json\", \"w\") as outfile: \n",
    "    json.dump(config, outfile)\n",
    "\n",
    "# Load the database configuration from the JSON file\n",
    "with open (\"/Users/hooman/Work Space/Online Store Data Analysis/online_store_data_analysis/notebooks/config.json\",\"r\") as config_file: \n",
    "    db_config = json.load(config_file)"
   ]
  },
  {
   "cell_type": "code",
   "execution_count": 50,
   "metadata": {},
   "outputs": [],
   "source": [
    "conn = mysql.connector.connect( \n",
    "  host = db_config['host'], \n",
    "  port = db_config['port'], \n",
    "  user = db_config['user'], \n",
    "  password = db_config['password'], \n",
    "  database= db_config['database'] \n",
    ")"
   ]
  },
  {
   "cell_type": "code",
   "execution_count": 51,
   "metadata": {},
   "outputs": [
    {
     "name": "stdout",
     "output_type": "stream",
     "text": [
      "Successfully connected to the database\n"
     ]
    }
   ],
   "source": [
    "# Check the connection\n",
    "if conn.is_connected():\n",
    "    print(\"Successfully connected to the database\")\n",
    "else:\n",
    "    print(\"Failed to connect to the database\")"
   ]
  },
  {
   "cell_type": "code",
   "execution_count": 52,
   "metadata": {},
   "outputs": [
    {
     "name": "stdout",
     "output_type": "stream",
     "text": [
      "  Tables_in_classicmodels\n",
      "0               customers\n",
      "1               employees\n",
      "2                 offices\n",
      "3            orderdetails\n",
      "4                  orders\n",
      "5                payments\n",
      "6            productlines\n",
      "7                products\n"
     ]
    },
    {
     "name": "stderr",
     "output_type": "stream",
     "text": [
      "/var/folders/0h/hnl1039x6_349d898wscwzg00000gn/T/ipykernel_2493/3042716431.py:3: UserWarning: pandas only supports SQLAlchemy connectable (engine/connection) or database string URI or sqlite3 DBAPI2 connection. Other DBAPI2 objects are not tested. Please consider using SQLAlchemy.\n",
      "  name_of_tabels =pd.read_sql(name_tables_database, conn)\n"
     ]
    }
   ],
   "source": [
    "# print all Table of Database\n",
    "name_tables_database = \"show tables\"\n",
    "name_of_tabels =pd.read_sql(name_tables_database, conn)\n",
    "print(name_of_tabels)"
   ]
  },
  {
   "cell_type": "code",
   "execution_count": 53,
   "metadata": {},
   "outputs": [
    {
     "name": "stdout",
     "output_type": "stream",
     "text": [
      "  Tables_in_classicmodels\n",
      "0               customers\n",
      "1               employees\n",
      "2                 offices\n",
      "3            orderdetails\n",
      "4                  orders\n",
      "5                payments\n",
      "6            productlines\n",
      "7                products\n"
     ]
    },
    {
     "name": "stderr",
     "output_type": "stream",
     "text": [
      "/var/folders/0h/hnl1039x6_349d898wscwzg00000gn/T/ipykernel_2493/2482540655.py:5: UserWarning: pandas only supports SQLAlchemy connectable (engine/connection) or database string URI or sqlite3 DBAPI2 connection. Other DBAPI2 objects are not tested. Please consider using SQLAlchemy.\n",
      "  name_of_tabels = pd.read_sql(name_tables_database, conn)\n"
     ]
    }
   ],
   "source": [
    "# Define the SQL query to show all tables in the database\n",
    "name_tables_database = \"show tables\"\n",
    "\n",
    "# Execute the SQL query and store the result in a DataFrame\n",
    "name_of_tabels = pd.read_sql(name_tables_database, conn)\n",
    "\n",
    "# Print the DataFrame containing the names of all tables in the database\n",
    "print(name_of_tabels)"
   ]
  },
  {
   "cell_type": "code",
   "execution_count": 54,
   "metadata": {},
   "outputs": [
    {
     "name": "stdout",
     "output_type": "stream",
     "text": [
      "table Name ==> customers\n",
      "table Name ==> employees\n",
      "table Name ==> offices\n",
      "table Name ==> orderdetails\n",
      "table Name ==> orders\n",
      "table Name ==> payments\n",
      "table Name ==> productlines\n",
      "table Name ==> products\n"
     ]
    },
    {
     "name": "stderr",
     "output_type": "stream",
     "text": [
      "/var/folders/0h/hnl1039x6_349d898wscwzg00000gn/T/ipykernel_2493/3638915225.py:7: UserWarning: pandas only supports SQLAlchemy connectable (engine/connection) or database string URI or sqlite3 DBAPI2 connection. Other DBAPI2 objects are not tested. Please consider using SQLAlchemy.\n",
      "  df = pd.read_sql(query, conn)\n"
     ]
    },
    {
     "data": {
      "text/plain": [
       "'\\n# read name of table\\nname_tables_database = \"show tables\"\\nname_of_tabels =pd.read_sql(name_tables_database, conn)\\nname_of_tabels\\n\\n# Create a dataframe with the name of each table and save it with the name of each table\\nvariable_names = list(name_of_tabels[\"Tables_in_online_store_dataset\"])\\nfile_names = []\\nfor i in range(len(variable_names)):\\n    a = f\"\"\"SELECT * from {name_of_tabels.iloc[i][\"Tables_in_online_store_dataset\"]}\"\"\"\\n    file_names.append(a)\\nfor var_name, file_name in zip(variable_names, file_names):\\n    globals()[var_name] = pd.read_sql(file_name, conn)\\n\\nfor var_name in variable_names:\\n    globals()[var_name].to_csv(f\\'D:/python/Online store dataset/Analysis data/data/processed/dataframe/{var_name}.csv\\')\\n'"
      ]
     },
     "execution_count": 54,
     "metadata": {},
     "output_type": "execute_result"
    }
   ],
   "source": [
    "# Iterate over each table name in the DataFrame\n",
    "for table in name_of_tabels[\"Tables_in_classicmodels\"]:\n",
    "    # Define the SQL query to select all data from the current table\n",
    "    query = f\"select * from {table}\"\n",
    "    \n",
    "    # Execute the SQL query and store the result in a DataFrame\n",
    "    df = pd.read_sql(query, conn)\n",
    "\n",
    "    # Save the DataFrame to an Excel and CSV file with the table name\n",
    "    # df.to_excel(f\"/Users/hooman/Work Space/Online Store Data Analysis/online_store_data_analysis/notebooks/Exported Excel Files/{table}.xlsx\", index=False)\n",
    "    df.to_csv(f\"/Users/hooman/Work Space/Online Store Data Analysis/online_store_data_analysis/notebooks/Exported CSV Files/{table}.csv\", index=False)\n",
    "    # Dynamically create a variable with the table name and assign the DataFrame to it\n",
    "    globals()[table] = df\n",
    "    \n",
    "    # Print the name of the current table\n",
    "    print(f\"table Name ==> {table}\")\n",
    "'''\n",
    "# read name of table\n",
    "name_tables_database = \"show tables\"\n",
    "name_of_tabels =pd.read_sql(name_tables_database, conn)\n",
    "name_of_tabels\n",
    "\n",
    "# Create a dataframe with the name of each table and save it with the name of each table\n",
    "variable_names = list(name_of_tabels[\"Tables_in_online_store_dataset\"])\n",
    "file_names = []\n",
    "for i in range(len(variable_names)):\n",
    "    a = f\"\"\"SELECT * from {name_of_tabels.iloc[i][\"Tables_in_online_store_dataset\"]}\"\"\"\n",
    "    file_names.append(a)\n",
    "for var_name, file_name in zip(variable_names, file_names):\n",
    "    globals()[var_name] = pd.read_sql(file_name, conn)\n",
    "\n",
    "for var_name in variable_names:\n",
    "    globals()[var_name].to_csv(f'D:/python/Online store dataset/Analysis data/data/processed/dataframe/{var_name}.csv')\n",
    "'''"
   ]
  }
 ],
 "metadata": {
  "kernelspec": {
   "display_name": "Jadi",
   "language": "python",
   "name": "python3"
  },
  "language_info": {
   "codemirror_mode": {
    "name": "ipython",
    "version": 3
   },
   "file_extension": ".py",
   "mimetype": "text/x-python",
   "name": "python",
   "nbconvert_exporter": "python",
   "pygments_lexer": "ipython3",
   "version": "3.12.3"
  }
 },
 "nbformat": 4,
 "nbformat_minor": 2
}
